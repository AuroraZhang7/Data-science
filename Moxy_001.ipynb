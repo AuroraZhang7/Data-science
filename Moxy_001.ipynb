{
  "nbformat": 4,
  "nbformat_minor": 0,
  "metadata": {
    "colab": {
      "name": "Moxy 001.ipynb",
      "version": "0.3.2",
      "provenance": [],
      "include_colab_link": true
    },
    "kernelspec": {
      "name": "python3",
      "display_name": "Python 3"
    }
  },
  "cells": [
    {
      "cell_type": "markdown",
      "metadata": {
        "id": "view-in-github",
        "colab_type": "text"
      },
      "source": [
        "<a href=\"https://colab.research.google.com/github/AuroraZhang7/Data-science/blob/master/Moxy_001.ipynb\" target=\"_parent\"><img src=\"https://colab.research.google.com/assets/colab-badge.svg\" alt=\"Open In Colab\"/></a>"
      ]
    },
    {
      "cell_type": "markdown",
      "metadata": {
        "id": "0_QR-uKvAjKc",
        "colab_type": "text"
      },
      "source": [
        ""
      ]
    },
    {
      "cell_type": "code",
      "metadata": {
        "id": "rfa4r1aE-ast",
        "colab_type": "code",
        "colab": {}
      },
      "source": [
        "import pandas as pd\n",
        "\n",
        "from google.colab import files"
      ],
      "execution_count": 0,
      "outputs": []
    },
    {
      "cell_type": "code",
      "metadata": {
        "id": "PXlz6bD4_QqA",
        "colab_type": "code",
        "outputId": "211439d0-97da-4b1c-9c39-da9ccc2d1e9d",
        "colab": {
          "resources": {
            "http://localhost:8080/nbextensions/google.colab/files.js": {
              "data": "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",
              "ok": true,
              "headers": [
                [
                  "content-type",
                  "application/javascript"
                ]
              ],
              "status": 200,
              "status_text": ""
            }
          },
          "base_uri": "https://localhost:8080/",
          "height": 40
        }
      },
      "source": [
        "uploaded = files.upload()"
      ],
      "execution_count": 0,
      "outputs": [
        {
          "output_type": "display_data",
          "data": {
            "text/html": [
              "\n",
              "     <input type=\"file\" id=\"files-9cd3af96-1390-4a2f-a666-8fe102d30822\" name=\"files[]\" multiple disabled />\n",
              "     <output id=\"result-9cd3af96-1390-4a2f-a666-8fe102d30822\">\n",
              "      Upload widget is only available when the cell has been executed in the\n",
              "      current browser session. Please rerun this cell to enable.\n",
              "      </output>\n",
              "      <script src=\"/nbextensions/google.colab/files.js\"></script> "
            ],
            "text/plain": [
              "<IPython.core.display.HTML object>"
            ]
          },
          "metadata": {
            "tags": []
          }
        }
      ]
    },
    {
      "cell_type": "code",
      "metadata": {
        "id": "b39oxhVKgCpx",
        "colab_type": "code",
        "colab": {}
      },
      "source": [
        "for fn in uploaded.keys():\n",
        "  print('User uploaded file \"{name}\" with length {length} bytes'.format(\n",
        "      name=fn, length=len(uploaded[fn])))"
      ],
      "execution_count": 0,
      "outputs": []
    },
    {
      "cell_type": "code",
      "metadata": {
        "id": "tAQh_zt2dbEk",
        "colab_type": "code",
        "colab": {}
      },
      "source": [
        ""
      ],
      "execution_count": 0,
      "outputs": []
    },
    {
      "cell_type": "code",
      "metadata": {
        "id": "SebvbpFdispp",
        "colab_type": "code",
        "colab": {}
      },
      "source": [
        "events_df = pd.read_csv(\"events.csv\",sep='\\t')"
      ],
      "execution_count": 0,
      "outputs": []
    },
    {
      "cell_type": "code",
      "metadata": {
        "id": "XghE2rzoist3",
        "colab_type": "code",
        "outputId": "abaa77ef-11b9-4bd1-8a2e-511de88b7f8f",
        "colab": {
          "base_uri": "https://localhost:8080/",
          "height": 204
        }
      },
      "source": [
        "events_df.head()"
      ],
      "execution_count": 0,
      "outputs": [
        {
          "output_type": "execute_result",
          "data": {
            "text/html": [
              "<div>\n",
              "<style scoped>\n",
              "    .dataframe tbody tr th:only-of-type {\n",
              "        vertical-align: middle;\n",
              "    }\n",
              "\n",
              "    .dataframe tbody tr th {\n",
              "        vertical-align: top;\n",
              "    }\n",
              "\n",
              "    .dataframe thead th {\n",
              "        text-align: right;\n",
              "    }\n",
              "</style>\n",
              "<table border=\"1\" class=\"dataframe\">\n",
              "  <thead>\n",
              "    <tr style=\"text-align: right;\">\n",
              "      <th></th>\n",
              "      <th>event_id</th>\n",
              "      <th>session_uuid</th>\n",
              "      <th>event_type_id</th>\n",
              "      <th>date_created</th>\n",
              "      <th>data</th>\n",
              "      <th>map_version_uuid</th>\n",
              "      <th>name</th>\n",
              "      <th>sort_order</th>\n",
              "    </tr>\n",
              "  </thead>\n",
              "  <tbody>\n",
              "    <tr>\n",
              "      <th>0</th>\n",
              "      <td>910832586</td>\n",
              "      <td>cd8ed9ff-5a70-46e9-814c-bfb7f7e12292</td>\n",
              "      <td>1</td>\n",
              "      <td>2019-07-01 00:00:04</td>\n",
              "      <td>NaN</td>\n",
              "      <td>NaN</td>\n",
              "      <td>SESSION_START</td>\n",
              "      <td>100</td>\n",
              "    </tr>\n",
              "    <tr>\n",
              "      <th>1</th>\n",
              "      <td>910832587</td>\n",
              "      <td>b52432c4-cb1e-4e2f-b3f2-071f43d487ab</td>\n",
              "      <td>1</td>\n",
              "      <td>2019-07-01 00:00:16</td>\n",
              "      <td>NaN</td>\n",
              "      <td>NaN</td>\n",
              "      <td>SESSION_START</td>\n",
              "      <td>100</td>\n",
              "    </tr>\n",
              "    <tr>\n",
              "      <th>2</th>\n",
              "      <td>910832588</td>\n",
              "      <td>e79e4c80-6898-40df-8bd5-b7d869be28e1</td>\n",
              "      <td>1</td>\n",
              "      <td>2019-07-01 00:00:34</td>\n",
              "      <td>NaN</td>\n",
              "      <td>NaN</td>\n",
              "      <td>SESSION_START</td>\n",
              "      <td>100</td>\n",
              "    </tr>\n",
              "    <tr>\n",
              "      <th>3</th>\n",
              "      <td>910832589</td>\n",
              "      <td>86cc7db6-3450-4574-b189-8b4e20231454</td>\n",
              "      <td>1</td>\n",
              "      <td>2019-07-01 00:00:46</td>\n",
              "      <td>NaN</td>\n",
              "      <td>NaN</td>\n",
              "      <td>SESSION_START</td>\n",
              "      <td>100</td>\n",
              "    </tr>\n",
              "    <tr>\n",
              "      <th>4</th>\n",
              "      <td>910832590</td>\n",
              "      <td>d935557f-b54d-4dcf-843a-e8a1e3f36906</td>\n",
              "      <td>1</td>\n",
              "      <td>2019-07-01 00:01:04</td>\n",
              "      <td>NaN</td>\n",
              "      <td>NaN</td>\n",
              "      <td>SESSION_START</td>\n",
              "      <td>100</td>\n",
              "    </tr>\n",
              "  </tbody>\n",
              "</table>\n",
              "</div>"
            ],
            "text/plain": [
              "    event_id                          session_uuid  ...           name sort_order\n",
              "0  910832586  cd8ed9ff-5a70-46e9-814c-bfb7f7e12292  ...  SESSION_START        100\n",
              "1  910832587  b52432c4-cb1e-4e2f-b3f2-071f43d487ab  ...  SESSION_START        100\n",
              "2  910832588  e79e4c80-6898-40df-8bd5-b7d869be28e1  ...  SESSION_START        100\n",
              "3  910832589  86cc7db6-3450-4574-b189-8b4e20231454  ...  SESSION_START        100\n",
              "4  910832590  d935557f-b54d-4dcf-843a-e8a1e3f36906  ...  SESSION_START        100\n",
              "\n",
              "[5 rows x 8 columns]"
            ]
          },
          "metadata": {
            "tags": []
          },
          "execution_count": 5
        }
      ]
    },
    {
      "cell_type": "markdown",
      "metadata": {
        "id": "PFn4sAxjmKc4",
        "colab_type": "text"
      },
      "source": [
        ""
      ]
    },
    {
      "cell_type": "code",
      "metadata": {
        "id": "bLzc-eX8is2m",
        "colab_type": "code",
        "colab": {}
      },
      "source": [
        "map_df = pd.read_csv ('map.csv',sep='\\t')"
      ],
      "execution_count": 0,
      "outputs": []
    },
    {
      "cell_type": "code",
      "metadata": {
        "id": "jxBExEH9gDQh",
        "colab_type": "code",
        "outputId": "f36c8727-755f-4445-d92c-2c1acdb93352",
        "colab": {
          "base_uri": "https://localhost:8080/",
          "height": 649
        }
      },
      "source": [
        "map_df.head()"
      ],
      "execution_count": 0,
      "outputs": [
        {
          "output_type": "execute_result",
          "data": {
            "text/html": [
              "<div>\n",
              "<style scoped>\n",
              "    .dataframe tbody tr th:only-of-type {\n",
              "        vertical-align: middle;\n",
              "    }\n",
              "\n",
              "    .dataframe tbody tr th {\n",
              "        vertical-align: top;\n",
              "    }\n",
              "\n",
              "    .dataframe thead th {\n",
              "        text-align: right;\n",
              "    }\n",
              "</style>\n",
              "<table border=\"1\" class=\"dataframe\">\n",
              "  <thead>\n",
              "    <tr style=\"text-align: right;\">\n",
              "      <th></th>\n",
              "      <th>map_version_id</th>\n",
              "      <th>map_id</th>\n",
              "      <th>version_id</th>\n",
              "      <th>map_version_uuid</th>\n",
              "      <th>date_created</th>\n",
              "      <th>public</th>\n",
              "      <th>config</th>\n",
              "      <th>max_level</th>\n",
              "      <th>map_id.1</th>\n",
              "      <th>name</th>\n",
              "      <th>namespace</th>\n",
              "      <th>current_version_id</th>\n",
              "      <th>public.1</th>\n",
              "      <th>map_uuid</th>\n",
              "      <th>date_created.1</th>\n",
              "      <th>description</th>\n",
              "      <th>description_html</th>\n",
              "      <th>category_id</th>\n",
              "      <th>country_code</th>\n",
              "      <th>publisher_id</th>\n",
              "      <th>config.1</th>\n",
              "    </tr>\n",
              "  </thead>\n",
              "  <tbody>\n",
              "    <tr>\n",
              "      <th>0</th>\n",
              "      <td>300151</td>\n",
              "      <td>20003</td>\n",
              "      <td>113</td>\n",
              "      <td>3b7b11af-7d8d-44cb-8235-4f73503f56d7</td>\n",
              "      <td>2019-06-04 22:53:31</td>\n",
              "      <td>False</td>\n",
              "      <td>{\"logging\": \"DEBUG\", \"level\": {\"1\": \"Color\", \"...</td>\n",
              "      <td>NaN</td>\n",
              "      <td>20003</td>\n",
              "      <td>Handbags from Amazon</td>\n",
              "      <td>handbags-from-amazon</td>\n",
              "      <td>128</td>\n",
              "      <td>True</td>\n",
              "      <td>eb8b1a70-926c-4a32-84f3-73f1b98474a3</td>\n",
              "      <td>2017-03-17 12:02:46</td>\n",
              "      <td>Every style and color of handbag available for...</td>\n",
              "      <td>&lt;p&gt;A map containing every handbag from Amazon....</td>\n",
              "      <td>1</td>\n",
              "      <td>US</td>\n",
              "      <td>50000</td>\n",
              "      <td>{\"scope\": \"SELECT p.product_id AS product_id, ...</td>\n",
              "    </tr>\n",
              "    <tr>\n",
              "      <th>1</th>\n",
              "      <td>300152</td>\n",
              "      <td>20003</td>\n",
              "      <td>114</td>\n",
              "      <td>2a12f7f1-0d8c-4c8d-9e43-b902bf207306</td>\n",
              "      <td>2019-06-05 15:37:58</td>\n",
              "      <td>False</td>\n",
              "      <td>{\"logging\": \"DEBUG\", \"level\": {\"1\": \"Color\", \"...</td>\n",
              "      <td>NaN</td>\n",
              "      <td>20003</td>\n",
              "      <td>Handbags from Amazon</td>\n",
              "      <td>handbags-from-amazon</td>\n",
              "      <td>128</td>\n",
              "      <td>True</td>\n",
              "      <td>eb8b1a70-926c-4a32-84f3-73f1b98474a3</td>\n",
              "      <td>2017-03-17 12:02:46</td>\n",
              "      <td>Every style and color of handbag available for...</td>\n",
              "      <td>&lt;p&gt;A map containing every handbag from Amazon....</td>\n",
              "      <td>1</td>\n",
              "      <td>US</td>\n",
              "      <td>50000</td>\n",
              "      <td>{\"scope\": \"SELECT p.product_id AS product_id, ...</td>\n",
              "    </tr>\n",
              "    <tr>\n",
              "      <th>2</th>\n",
              "      <td>300153</td>\n",
              "      <td>20003</td>\n",
              "      <td>115</td>\n",
              "      <td>b173a825-0093-4bd2-8460-c82cbb2fe21f</td>\n",
              "      <td>2019-06-05 23:25:31</td>\n",
              "      <td>False</td>\n",
              "      <td>{\"logging\": \"DEBUG\", \"level\": {\"1\": \"Color\", \"...</td>\n",
              "      <td>3.0</td>\n",
              "      <td>20003</td>\n",
              "      <td>Handbags from Amazon</td>\n",
              "      <td>handbags-from-amazon</td>\n",
              "      <td>128</td>\n",
              "      <td>True</td>\n",
              "      <td>eb8b1a70-926c-4a32-84f3-73f1b98474a3</td>\n",
              "      <td>2017-03-17 12:02:46</td>\n",
              "      <td>Every style and color of handbag available for...</td>\n",
              "      <td>&lt;p&gt;A map containing every handbag from Amazon....</td>\n",
              "      <td>1</td>\n",
              "      <td>US</td>\n",
              "      <td>50000</td>\n",
              "      <td>{\"scope\": \"SELECT p.product_id AS product_id, ...</td>\n",
              "    </tr>\n",
              "    <tr>\n",
              "      <th>3</th>\n",
              "      <td>300154</td>\n",
              "      <td>20003</td>\n",
              "      <td>116</td>\n",
              "      <td>5b460656-9247-487b-b947-dda126cda36a</td>\n",
              "      <td>2019-06-05 23:54:43</td>\n",
              "      <td>False</td>\n",
              "      <td>{\"logging\": \"DEBUG\", \"level\": {\"1\": \"Color\", \"...</td>\n",
              "      <td>3.0</td>\n",
              "      <td>20003</td>\n",
              "      <td>Handbags from Amazon</td>\n",
              "      <td>handbags-from-amazon</td>\n",
              "      <td>128</td>\n",
              "      <td>True</td>\n",
              "      <td>eb8b1a70-926c-4a32-84f3-73f1b98474a3</td>\n",
              "      <td>2017-03-17 12:02:46</td>\n",
              "      <td>Every style and color of handbag available for...</td>\n",
              "      <td>&lt;p&gt;A map containing every handbag from Amazon....</td>\n",
              "      <td>1</td>\n",
              "      <td>US</td>\n",
              "      <td>50000</td>\n",
              "      <td>{\"scope\": \"SELECT p.product_id AS product_id, ...</td>\n",
              "    </tr>\n",
              "    <tr>\n",
              "      <th>4</th>\n",
              "      <td>300155</td>\n",
              "      <td>20003</td>\n",
              "      <td>117</td>\n",
              "      <td>f9ce0c65-4974-4520-8da3-27fc2df3cc84</td>\n",
              "      <td>2019-06-06 00:10:08</td>\n",
              "      <td>False</td>\n",
              "      <td>{\"logging\": \"DEBUG\", \"level\": {\"1\": \"Color\", \"...</td>\n",
              "      <td>3.0</td>\n",
              "      <td>20003</td>\n",
              "      <td>Handbags from Amazon</td>\n",
              "      <td>handbags-from-amazon</td>\n",
              "      <td>128</td>\n",
              "      <td>True</td>\n",
              "      <td>eb8b1a70-926c-4a32-84f3-73f1b98474a3</td>\n",
              "      <td>2017-03-17 12:02:46</td>\n",
              "      <td>Every style and color of handbag available for...</td>\n",
              "      <td>&lt;p&gt;A map containing every handbag from Amazon....</td>\n",
              "      <td>1</td>\n",
              "      <td>US</td>\n",
              "      <td>50000</td>\n",
              "      <td>{\"scope\": \"SELECT p.product_id AS product_id, ...</td>\n",
              "    </tr>\n",
              "  </tbody>\n",
              "</table>\n",
              "</div>"
            ],
            "text/plain": [
              "   map_version_id  ...                                           config.1\n",
              "0          300151  ...  {\"scope\": \"SELECT p.product_id AS product_id, ...\n",
              "1          300152  ...  {\"scope\": \"SELECT p.product_id AS product_id, ...\n",
              "2          300153  ...  {\"scope\": \"SELECT p.product_id AS product_id, ...\n",
              "3          300154  ...  {\"scope\": \"SELECT p.product_id AS product_id, ...\n",
              "4          300155  ...  {\"scope\": \"SELECT p.product_id AS product_id, ...\n",
              "\n",
              "[5 rows x 21 columns]"
            ]
          },
          "metadata": {
            "tags": []
          },
          "execution_count": 7
        }
      ]
    },
    {
      "cell_type": "code",
      "metadata": {
        "id": "yn5EOVkwgBkR",
        "colab_type": "code",
        "colab": {}
      },
      "source": [
        "sessons_df = pd.read_csv (\"sessons.csv\", sep='\\t')"
      ],
      "execution_count": 0,
      "outputs": []
    },
    {
      "cell_type": "code",
      "metadata": {
        "id": "FhEdCAGygB-P",
        "colab_type": "code",
        "outputId": "2a4d974c-7c97-4654-c580-8af5135ce115",
        "colab": {
          "base_uri": "https://localhost:8080/",
          "height": 204
        }
      },
      "source": [
        "sessons_df.head()"
      ],
      "execution_count": 0,
      "outputs": [
        {
          "output_type": "execute_result",
          "data": {
            "text/html": [
              "<div>\n",
              "<style scoped>\n",
              "    .dataframe tbody tr th:only-of-type {\n",
              "        vertical-align: middle;\n",
              "    }\n",
              "\n",
              "    .dataframe tbody tr th {\n",
              "        vertical-align: top;\n",
              "    }\n",
              "\n",
              "    .dataframe thead th {\n",
              "        text-align: right;\n",
              "    }\n",
              "</style>\n",
              "<table border=\"1\" class=\"dataframe\">\n",
              "  <thead>\n",
              "    <tr style=\"text-align: right;\">\n",
              "      <th></th>\n",
              "      <th>session_uuid</th>\n",
              "      <th>publisher_id</th>\n",
              "      <th>ref_id</th>\n",
              "      <th>device_uuid</th>\n",
              "      <th>parent_url</th>\n",
              "      <th>data</th>\n",
              "      <th>start_time</th>\n",
              "      <th>end_time</th>\n",
              "      <th>client_ip</th>\n",
              "      <th>map_version_uuid</th>\n",
              "      <th>build_uuid</th>\n",
              "    </tr>\n",
              "  </thead>\n",
              "  <tbody>\n",
              "    <tr>\n",
              "      <th>0</th>\n",
              "      <td>828721f2-d3e3-4765-9c2b-5b9ee3c2f253</td>\n",
              "      <td>50000</td>\n",
              "      <td>1000</td>\n",
              "      <td>NaN</td>\n",
              "      <td>/us/product/xy-fancy-sholder-bag-black-tassel-...</td>\n",
              "      <td>{\"family\":\"AdsBot-Google\",\"major\":\"0\",\"minor\":...</td>\n",
              "      <td>2019-07-01 11:29:42</td>\n",
              "      <td>NaN</td>\n",
              "      <td>72.14.199.204</td>\n",
              "      <td>NaN</td>\n",
              "      <td>NaN</td>\n",
              "    </tr>\n",
              "    <tr>\n",
              "      <th>1</th>\n",
              "      <td>2b58e156-7e8f-4ecf-8780-4b79bc982649</td>\n",
              "      <td>50000</td>\n",
              "      <td>1000</td>\n",
              "      <td>NaN</td>\n",
              "      <td>/</td>\n",
              "      <td>{\"family\":\"Other\",\"major\":\"0\",\"minor\":\"0\",\"pat...</td>\n",
              "      <td>2019-07-01 11:29:46</td>\n",
              "      <td>NaN</td>\n",
              "      <td>172.16.11.85</td>\n",
              "      <td>NaN</td>\n",
              "      <td>NaN</td>\n",
              "    </tr>\n",
              "    <tr>\n",
              "      <th>2</th>\n",
              "      <td>5472ca11-8435-45c0-a73d-f2378650f2be</td>\n",
              "      <td>50000</td>\n",
              "      <td>1000</td>\n",
              "      <td>NaN</td>\n",
              "      <td>/us/product/artwell-sholder-bag-blue-convertib...</td>\n",
              "      <td>{\"family\":\"AdsBot-Google\",\"major\":\"0\",\"minor\":...</td>\n",
              "      <td>2019-07-01 11:29:47</td>\n",
              "      <td>NaN</td>\n",
              "      <td>72.14.199.204</td>\n",
              "      <td>NaN</td>\n",
              "      <td>NaN</td>\n",
              "    </tr>\n",
              "    <tr>\n",
              "      <th>3</th>\n",
              "      <td>890b38e9-4d45-48df-8fb7-ffb176057f8a</td>\n",
              "      <td>50000</td>\n",
              "      <td>1000</td>\n",
              "      <td>NaN</td>\n",
              "      <td>/us/product/rebecca-minkoff-crossbody-bag-sky-...</td>\n",
              "      <td>{\"family\":\"AdsBot-Google\",\"major\":\"0\",\"minor\":...</td>\n",
              "      <td>2019-07-01 11:29:49</td>\n",
              "      <td>NaN</td>\n",
              "      <td>72.14.199.206</td>\n",
              "      <td>NaN</td>\n",
              "      <td>NaN</td>\n",
              "    </tr>\n",
              "    <tr>\n",
              "      <th>4</th>\n",
              "      <td>11935837-a27b-4296-8cd4-eb98b57c833c</td>\n",
              "      <td>50000</td>\n",
              "      <td>1000</td>\n",
              "      <td>NaN</td>\n",
              "      <td>/</td>\n",
              "      <td>{\"family\":\"Other\",\"major\":\"0\",\"minor\":\"0\",\"pat...</td>\n",
              "      <td>2019-07-01 11:30:04</td>\n",
              "      <td>NaN</td>\n",
              "      <td>172.16.21.198</td>\n",
              "      <td>NaN</td>\n",
              "      <td>NaN</td>\n",
              "    </tr>\n",
              "  </tbody>\n",
              "</table>\n",
              "</div>"
            ],
            "text/plain": [
              "                           session_uuid  ...  build_uuid\n",
              "0  828721f2-d3e3-4765-9c2b-5b9ee3c2f253  ...         NaN\n",
              "1  2b58e156-7e8f-4ecf-8780-4b79bc982649  ...         NaN\n",
              "2  5472ca11-8435-45c0-a73d-f2378650f2be  ...         NaN\n",
              "3  890b38e9-4d45-48df-8fb7-ffb176057f8a  ...         NaN\n",
              "4  11935837-a27b-4296-8cd4-eb98b57c833c  ...         NaN\n",
              "\n",
              "[5 rows x 11 columns]"
            ]
          },
          "metadata": {
            "tags": []
          },
          "execution_count": 9
        }
      ]
    },
    {
      "cell_type": "code",
      "metadata": {
        "id": "MgbByLb_cbFN",
        "colab_type": "code",
        "outputId": "703547af-6053-4736-8f11-3d2735044eca",
        "colab": {
          "base_uri": "https://localhost:8080/",
          "height": 649
        }
      },
      "source": [
        "merge_1= map_df.merge(events_df, how='inner', on=\"map_version_uuid\")\n",
        "merge_1.head()"
      ],
      "execution_count": 0,
      "outputs": [
        {
          "output_type": "execute_result",
          "data": {
            "text/html": [
              "<div>\n",
              "<style scoped>\n",
              "    .dataframe tbody tr th:only-of-type {\n",
              "        vertical-align: middle;\n",
              "    }\n",
              "\n",
              "    .dataframe tbody tr th {\n",
              "        vertical-align: top;\n",
              "    }\n",
              "\n",
              "    .dataframe thead th {\n",
              "        text-align: right;\n",
              "    }\n",
              "</style>\n",
              "<table border=\"1\" class=\"dataframe\">\n",
              "  <thead>\n",
              "    <tr style=\"text-align: right;\">\n",
              "      <th></th>\n",
              "      <th>map_version_id</th>\n",
              "      <th>map_id</th>\n",
              "      <th>version_id</th>\n",
              "      <th>map_version_uuid</th>\n",
              "      <th>date_created_x</th>\n",
              "      <th>public</th>\n",
              "      <th>config</th>\n",
              "      <th>max_level</th>\n",
              "      <th>map_id.1</th>\n",
              "      <th>name_x</th>\n",
              "      <th>namespace</th>\n",
              "      <th>current_version_id</th>\n",
              "      <th>public.1</th>\n",
              "      <th>map_uuid</th>\n",
              "      <th>date_created.1</th>\n",
              "      <th>description</th>\n",
              "      <th>description_html</th>\n",
              "      <th>category_id</th>\n",
              "      <th>country_code</th>\n",
              "      <th>publisher_id</th>\n",
              "      <th>config.1</th>\n",
              "      <th>event_id</th>\n",
              "      <th>session_uuid</th>\n",
              "      <th>event_type_id</th>\n",
              "      <th>date_created_y</th>\n",
              "      <th>data</th>\n",
              "      <th>name_y</th>\n",
              "      <th>sort_order</th>\n",
              "    </tr>\n",
              "  </thead>\n",
              "  <tbody>\n",
              "    <tr>\n",
              "      <th>0</th>\n",
              "      <td>300166</td>\n",
              "      <td>20003</td>\n",
              "      <td>128</td>\n",
              "      <td>bb408822-06c6-44d3-977e-0f2f2db6dbb9</td>\n",
              "      <td>2019-06-11 14:40:20</td>\n",
              "      <td>True</td>\n",
              "      <td>{\"logging\": \"DEBUG\", \"level\": {\"1\": \"Color\", \"...</td>\n",
              "      <td>3.0</td>\n",
              "      <td>20003</td>\n",
              "      <td>Handbags from Amazon</td>\n",
              "      <td>handbags-from-amazon</td>\n",
              "      <td>128</td>\n",
              "      <td>True</td>\n",
              "      <td>eb8b1a70-926c-4a32-84f3-73f1b98474a3</td>\n",
              "      <td>2017-03-17 12:02:46</td>\n",
              "      <td>Every style and color of handbag available for...</td>\n",
              "      <td>&lt;p&gt;A map containing every handbag from Amazon....</td>\n",
              "      <td>1</td>\n",
              "      <td>US</td>\n",
              "      <td>50000</td>\n",
              "      <td>{\"scope\": \"SELECT p.product_id AS product_id, ...</td>\n",
              "      <td>910834575</td>\n",
              "      <td>151dd47c-e493-4ef5-8fcb-2ba7aff263d1</td>\n",
              "      <td>16</td>\n",
              "      <td>2019-07-01 03:59:21</td>\n",
              "      <td>{\"isWebGL\":true,\"isMobile\":true,\"isIframe\":fal...</td>\n",
              "      <td>APP_LOADED</td>\n",
              "      <td>102</td>\n",
              "    </tr>\n",
              "    <tr>\n",
              "      <th>1</th>\n",
              "      <td>300166</td>\n",
              "      <td>20003</td>\n",
              "      <td>128</td>\n",
              "      <td>bb408822-06c6-44d3-977e-0f2f2db6dbb9</td>\n",
              "      <td>2019-06-11 14:40:20</td>\n",
              "      <td>True</td>\n",
              "      <td>{\"logging\": \"DEBUG\", \"level\": {\"1\": \"Color\", \"...</td>\n",
              "      <td>3.0</td>\n",
              "      <td>20003</td>\n",
              "      <td>Handbags from Amazon</td>\n",
              "      <td>handbags-from-amazon</td>\n",
              "      <td>128</td>\n",
              "      <td>True</td>\n",
              "      <td>eb8b1a70-926c-4a32-84f3-73f1b98474a3</td>\n",
              "      <td>2017-03-17 12:02:46</td>\n",
              "      <td>Every style and color of handbag available for...</td>\n",
              "      <td>&lt;p&gt;A map containing every handbag from Amazon....</td>\n",
              "      <td>1</td>\n",
              "      <td>US</td>\n",
              "      <td>50000</td>\n",
              "      <td>{\"scope\": \"SELECT p.product_id AS product_id, ...</td>\n",
              "      <td>910834576</td>\n",
              "      <td>151dd47c-e493-4ef5-8fcb-2ba7aff263d1</td>\n",
              "      <td>4</td>\n",
              "      <td>2019-07-01 03:59:21</td>\n",
              "      <td>{\"lvl\":\"0\",\"n\":\"1\",\"e\":\"1\",\"w\":\"0\",\"s\":\"0\"}</td>\n",
              "      <td>GET_PRODUCTS_IN_BOUNDING_BOX</td>\n",
              "      <td>210</td>\n",
              "    </tr>\n",
              "    <tr>\n",
              "      <th>2</th>\n",
              "      <td>300166</td>\n",
              "      <td>20003</td>\n",
              "      <td>128</td>\n",
              "      <td>bb408822-06c6-44d3-977e-0f2f2db6dbb9</td>\n",
              "      <td>2019-06-11 14:40:20</td>\n",
              "      <td>True</td>\n",
              "      <td>{\"logging\": \"DEBUG\", \"level\": {\"1\": \"Color\", \"...</td>\n",
              "      <td>3.0</td>\n",
              "      <td>20003</td>\n",
              "      <td>Handbags from Amazon</td>\n",
              "      <td>handbags-from-amazon</td>\n",
              "      <td>128</td>\n",
              "      <td>True</td>\n",
              "      <td>eb8b1a70-926c-4a32-84f3-73f1b98474a3</td>\n",
              "      <td>2017-03-17 12:02:46</td>\n",
              "      <td>Every style and color of handbag available for...</td>\n",
              "      <td>&lt;p&gt;A map containing every handbag from Amazon....</td>\n",
              "      <td>1</td>\n",
              "      <td>US</td>\n",
              "      <td>50000</td>\n",
              "      <td>{\"scope\": \"SELECT p.product_id AS product_id, ...</td>\n",
              "      <td>910834579</td>\n",
              "      <td>151dd47c-e493-4ef5-8fcb-2ba7aff263d1</td>\n",
              "      <td>4</td>\n",
              "      <td>2019-07-01 03:59:25</td>\n",
              "      <td>{\"lvl\":\"3\",\"n\":\"0.4074074074074074\",\"e\":\"0.629...</td>\n",
              "      <td>GET_PRODUCTS_IN_BOUNDING_BOX</td>\n",
              "      <td>210</td>\n",
              "    </tr>\n",
              "    <tr>\n",
              "      <th>3</th>\n",
              "      <td>300166</td>\n",
              "      <td>20003</td>\n",
              "      <td>128</td>\n",
              "      <td>bb408822-06c6-44d3-977e-0f2f2db6dbb9</td>\n",
              "      <td>2019-06-11 14:40:20</td>\n",
              "      <td>True</td>\n",
              "      <td>{\"logging\": \"DEBUG\", \"level\": {\"1\": \"Color\", \"...</td>\n",
              "      <td>3.0</td>\n",
              "      <td>20003</td>\n",
              "      <td>Handbags from Amazon</td>\n",
              "      <td>handbags-from-amazon</td>\n",
              "      <td>128</td>\n",
              "      <td>True</td>\n",
              "      <td>eb8b1a70-926c-4a32-84f3-73f1b98474a3</td>\n",
              "      <td>2017-03-17 12:02:46</td>\n",
              "      <td>Every style and color of handbag available for...</td>\n",
              "      <td>&lt;p&gt;A map containing every handbag from Amazon....</td>\n",
              "      <td>1</td>\n",
              "      <td>US</td>\n",
              "      <td>50000</td>\n",
              "      <td>{\"scope\": \"SELECT p.product_id AS product_id, ...</td>\n",
              "      <td>910834580</td>\n",
              "      <td>151dd47c-e493-4ef5-8fcb-2ba7aff263d1</td>\n",
              "      <td>35</td>\n",
              "      <td>2019-07-01 03:59:25</td>\n",
              "      <td>{\"lvl\":3,\"n\":0.435229,\"e\":0.656536,\"s\":0.40180...</td>\n",
              "      <td>MAP_MOVED</td>\n",
              "      <td>211</td>\n",
              "    </tr>\n",
              "    <tr>\n",
              "      <th>4</th>\n",
              "      <td>300166</td>\n",
              "      <td>20003</td>\n",
              "      <td>128</td>\n",
              "      <td>bb408822-06c6-44d3-977e-0f2f2db6dbb9</td>\n",
              "      <td>2019-06-11 14:40:20</td>\n",
              "      <td>True</td>\n",
              "      <td>{\"logging\": \"DEBUG\", \"level\": {\"1\": \"Color\", \"...</td>\n",
              "      <td>3.0</td>\n",
              "      <td>20003</td>\n",
              "      <td>Handbags from Amazon</td>\n",
              "      <td>handbags-from-amazon</td>\n",
              "      <td>128</td>\n",
              "      <td>True</td>\n",
              "      <td>eb8b1a70-926c-4a32-84f3-73f1b98474a3</td>\n",
              "      <td>2017-03-17 12:02:46</td>\n",
              "      <td>Every style and color of handbag available for...</td>\n",
              "      <td>&lt;p&gt;A map containing every handbag from Amazon....</td>\n",
              "      <td>1</td>\n",
              "      <td>US</td>\n",
              "      <td>50000</td>\n",
              "      <td>{\"scope\": \"SELECT p.product_id AS product_id, ...</td>\n",
              "      <td>910834581</td>\n",
              "      <td>151dd47c-e493-4ef5-8fcb-2ba7aff263d1</td>\n",
              "      <td>4</td>\n",
              "      <td>2019-07-01 03:59:25</td>\n",
              "      <td>{\"lvl\":\"3\",\"n\":\"0.4444444444444444\",\"e\":\"0.629...</td>\n",
              "      <td>GET_PRODUCTS_IN_BOUNDING_BOX</td>\n",
              "      <td>210</td>\n",
              "    </tr>\n",
              "  </tbody>\n",
              "</table>\n",
              "</div>"
            ],
            "text/plain": [
              "   map_version_id  map_id  ...                        name_y sort_order\n",
              "0          300166   20003  ...                    APP_LOADED        102\n",
              "1          300166   20003  ...  GET_PRODUCTS_IN_BOUNDING_BOX        210\n",
              "2          300166   20003  ...  GET_PRODUCTS_IN_BOUNDING_BOX        210\n",
              "3          300166   20003  ...                     MAP_MOVED        211\n",
              "4          300166   20003  ...  GET_PRODUCTS_IN_BOUNDING_BOX        210\n",
              "\n",
              "[5 rows x 28 columns]"
            ]
          },
          "metadata": {
            "tags": []
          },
          "execution_count": 10
        }
      ]
    },
    {
      "cell_type": "code",
      "metadata": {
        "id": "K5ILTXrL24JQ",
        "colab_type": "code",
        "outputId": "809ba2e4-4e5e-4756-f251-5515500f2caf",
        "colab": {
          "base_uri": "https://localhost:8080/",
          "height": 34
        }
      },
      "source": [
        "map_df.shape"
      ],
      "execution_count": 0,
      "outputs": [
        {
          "output_type": "execute_result",
          "data": {
            "text/plain": [
              "(164, 21)"
            ]
          },
          "metadata": {
            "tags": []
          },
          "execution_count": 11
        }
      ]
    },
    {
      "cell_type": "code",
      "metadata": {
        "id": "PIgtXriNg0pz",
        "colab_type": "code",
        "outputId": "577c0631-b41a-48f1-fd83-2eb213e2b43a",
        "colab": {
          "base_uri": "https://localhost:8080/",
          "height": 34
        }
      },
      "source": [
        "sessons_df.shape"
      ],
      "execution_count": 0,
      "outputs": [
        {
          "output_type": "execute_result",
          "data": {
            "text/plain": [
              "(99377, 11)"
            ]
          },
          "metadata": {
            "tags": []
          },
          "execution_count": 12
        }
      ]
    },
    {
      "cell_type": "code",
      "metadata": {
        "id": "5ZMA7lmLg5h7",
        "colab_type": "code",
        "outputId": "dcbc5e31-4142-4568-8073-7741eb75e493",
        "colab": {
          "base_uri": "https://localhost:8080/",
          "height": 34
        }
      },
      "source": [
        "merge_1.shape"
      ],
      "execution_count": 0,
      "outputs": [
        {
          "output_type": "execute_result",
          "data": {
            "text/plain": [
              "(11500, 28)"
            ]
          },
          "metadata": {
            "tags": []
          },
          "execution_count": 13
        }
      ]
    },
    {
      "cell_type": "code",
      "metadata": {
        "id": "xDx43rWejHfZ",
        "colab_type": "code",
        "outputId": "6109fe61-3a22-4586-b53c-caf926ee11e9",
        "colab": {
          "base_uri": "https://localhost:8080/",
          "height": 204
        }
      },
      "source": [
        "events_df.head()"
      ],
      "execution_count": 0,
      "outputs": [
        {
          "output_type": "execute_result",
          "data": {
            "text/html": [
              "<div>\n",
              "<style scoped>\n",
              "    .dataframe tbody tr th:only-of-type {\n",
              "        vertical-align: middle;\n",
              "    }\n",
              "\n",
              "    .dataframe tbody tr th {\n",
              "        vertical-align: top;\n",
              "    }\n",
              "\n",
              "    .dataframe thead th {\n",
              "        text-align: right;\n",
              "    }\n",
              "</style>\n",
              "<table border=\"1\" class=\"dataframe\">\n",
              "  <thead>\n",
              "    <tr style=\"text-align: right;\">\n",
              "      <th></th>\n",
              "      <th>event_id</th>\n",
              "      <th>session_uuid</th>\n",
              "      <th>event_type_id</th>\n",
              "      <th>date_created</th>\n",
              "      <th>data</th>\n",
              "      <th>map_version_uuid</th>\n",
              "      <th>name</th>\n",
              "      <th>sort_order</th>\n",
              "    </tr>\n",
              "  </thead>\n",
              "  <tbody>\n",
              "    <tr>\n",
              "      <th>0</th>\n",
              "      <td>910832586</td>\n",
              "      <td>cd8ed9ff-5a70-46e9-814c-bfb7f7e12292</td>\n",
              "      <td>1</td>\n",
              "      <td>2019-07-01 00:00:04</td>\n",
              "      <td>NaN</td>\n",
              "      <td>NaN</td>\n",
              "      <td>SESSION_START</td>\n",
              "      <td>100</td>\n",
              "    </tr>\n",
              "    <tr>\n",
              "      <th>1</th>\n",
              "      <td>910832587</td>\n",
              "      <td>b52432c4-cb1e-4e2f-b3f2-071f43d487ab</td>\n",
              "      <td>1</td>\n",
              "      <td>2019-07-01 00:00:16</td>\n",
              "      <td>NaN</td>\n",
              "      <td>NaN</td>\n",
              "      <td>SESSION_START</td>\n",
              "      <td>100</td>\n",
              "    </tr>\n",
              "    <tr>\n",
              "      <th>2</th>\n",
              "      <td>910832588</td>\n",
              "      <td>e79e4c80-6898-40df-8bd5-b7d869be28e1</td>\n",
              "      <td>1</td>\n",
              "      <td>2019-07-01 00:00:34</td>\n",
              "      <td>NaN</td>\n",
              "      <td>NaN</td>\n",
              "      <td>SESSION_START</td>\n",
              "      <td>100</td>\n",
              "    </tr>\n",
              "    <tr>\n",
              "      <th>3</th>\n",
              "      <td>910832589</td>\n",
              "      <td>86cc7db6-3450-4574-b189-8b4e20231454</td>\n",
              "      <td>1</td>\n",
              "      <td>2019-07-01 00:00:46</td>\n",
              "      <td>NaN</td>\n",
              "      <td>NaN</td>\n",
              "      <td>SESSION_START</td>\n",
              "      <td>100</td>\n",
              "    </tr>\n",
              "    <tr>\n",
              "      <th>4</th>\n",
              "      <td>910832590</td>\n",
              "      <td>d935557f-b54d-4dcf-843a-e8a1e3f36906</td>\n",
              "      <td>1</td>\n",
              "      <td>2019-07-01 00:01:04</td>\n",
              "      <td>NaN</td>\n",
              "      <td>NaN</td>\n",
              "      <td>SESSION_START</td>\n",
              "      <td>100</td>\n",
              "    </tr>\n",
              "  </tbody>\n",
              "</table>\n",
              "</div>"
            ],
            "text/plain": [
              "    event_id                          session_uuid  ...           name sort_order\n",
              "0  910832586  cd8ed9ff-5a70-46e9-814c-bfb7f7e12292  ...  SESSION_START        100\n",
              "1  910832587  b52432c4-cb1e-4e2f-b3f2-071f43d487ab  ...  SESSION_START        100\n",
              "2  910832588  e79e4c80-6898-40df-8bd5-b7d869be28e1  ...  SESSION_START        100\n",
              "3  910832589  86cc7db6-3450-4574-b189-8b4e20231454  ...  SESSION_START        100\n",
              "4  910832590  d935557f-b54d-4dcf-843a-e8a1e3f36906  ...  SESSION_START        100\n",
              "\n",
              "[5 rows x 8 columns]"
            ]
          },
          "metadata": {
            "tags": []
          },
          "execution_count": 14
        }
      ]
    },
    {
      "cell_type": "code",
      "metadata": {
        "id": "b9y9u2TKg8Wo",
        "colab_type": "code",
        "colab": {}
      },
      "source": [
        "merge_2 = merge_1.merge(sessons_df, how='inner', on=\"publisher_id\")\n",
        "merge_2.head()"
      ],
      "execution_count": 0,
      "outputs": []
    },
    {
      "cell_type": "code",
      "metadata": {
        "id": "8-5SrmUSiegI",
        "colab_type": "code",
        "colab": {}
      },
      "source": [
        ""
      ],
      "execution_count": 0,
      "outputs": []
    }
  ]
}